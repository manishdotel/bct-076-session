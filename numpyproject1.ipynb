{
  "nbformat": 4,
  "nbformat_minor": 0,
  "metadata": {
    "colab": {
      "provenance": [],
      "include_colab_link": true
    },
    "kernelspec": {
      "name": "python3",
      "display_name": "Python 3"
    },
    "language_info": {
      "name": "python"
    }
  },
  "cells": [
    {
      "cell_type": "markdown",
      "metadata": {
        "id": "view-in-github",
        "colab_type": "text"
      },
      "source": [
        "<a href=\"https://colab.research.google.com/github/manishdotel/bct-076-session/blob/main/numpyproject1.ipynb\" target=\"_parent\"><img src=\"https://colab.research.google.com/assets/colab-badge.svg\" alt=\"Open In Colab\"/></a>"
      ]
    },
    {
      "cell_type": "code",
      "execution_count": 56,
      "metadata": {
        "id": "VOo-92VVJ3B6"
      },
      "outputs": [],
      "source": [
        "import numpy as np"
      ]
    },
    {
      "cell_type": "code",
      "source": [
        "np.random.seed(42)\n",
        "X_ROW, X_COLUMN =(2,2000)\n"
      ],
      "metadata": {
        "id": "_ZgBwiG8Kojv"
      },
      "execution_count": 57,
      "outputs": []
    },
    {
      "cell_type": "code",
      "source": [
        "X_RAW =np.random.rand(X_ROW, X_COLUMN)*100\n",
        "X_RAW"
      ],
      "metadata": {
        "colab": {
          "base_uri": "https://localhost:8080/"
        },
        "id": "S0RZsW_G0vmP",
        "outputId": "ed4a4ad2-c64d-4729-f1f6-d786467e4619"
      },
      "execution_count": 58,
      "outputs": [
        {
          "output_type": "execute_result",
          "data": {
            "text/plain": [
              "array([[37.45401188, 95.07143064, 73.19939418, ...,  6.89580164,\n",
              "         5.70547212, 28.21870747],\n",
              "       [26.17056837, 24.69787991, 90.62545805, ..., 39.45723153,\n",
              "        52.99405869, 16.13673584]])"
            ]
          },
          "metadata": {},
          "execution_count": 58
        }
      ]
    },
    {
      "cell_type": "code",
      "source": [
        "Y_Raw =np.concatenate(([(X_RAW[0,:])+(X_RAW[1,:])],[(X_RAW[0,:])-(X_RAW[1,:])],np.abs([(X_RAW[0,:])+(X_RAW[1,:])])))\n",
        "Y_Raw"
      ],
      "metadata": {
        "colab": {
          "base_uri": "https://localhost:8080/"
        },
        "id": "a5cZ8o2y0vz3",
        "outputId": "4d1b63a2-7d1a-4120-b2f6-c262539191a4"
      },
      "execution_count": 59,
      "outputs": [
        {
          "output_type": "execute_result",
          "data": {
            "text/plain": [
              "array([[ 63.62458026, 119.76931055, 163.82485223, ...,  46.35303317,\n",
              "         58.69953081,  44.35544331],\n",
              "       [ 11.28344351,  70.37355073, -17.42606387, ..., -32.5614299 ,\n",
              "        -47.28858658,  12.08197163],\n",
              "       [ 63.62458026, 119.76931055, 163.82485223, ...,  46.35303317,\n",
              "         58.69953081,  44.35544331]])"
            ]
          },
          "metadata": {},
          "execution_count": 59
        }
      ]
    },
    {
      "cell_type": "code",
      "source": [
        "Y_Row, Y_Col = Y_Raw.shape\n",
        "Y_Raw.shape"
      ],
      "metadata": {
        "colab": {
          "base_uri": "https://localhost:8080/"
        },
        "id": "W1-NhAch6Zcz",
        "outputId": "accaf18d-2166-4c13-e24b-263f9ee71132"
      },
      "execution_count": 60,
      "outputs": [
        {
          "output_type": "execute_result",
          "data": {
            "text/plain": [
              "(3, 2000)"
            ]
          },
          "metadata": {},
          "execution_count": 60
        }
      ]
    },
    {
      "cell_type": "code",
      "source": [
        "Train_rato= 0.7"
      ],
      "metadata": {
        "id": "uTiE59Ak6ZfK"
      },
      "execution_count": 61,
      "outputs": []
    },
    {
      "cell_type": "code",
      "source": [
        "Num_data_train = int(Train_rato*X_COLUMN)\n",
        "X_RAW_Train = X_RAW[:,0:Num_data_train]\n",
        "X_RAW_Test = X_RAW[:,Num_data_train:]\n",
        "Y_RAW_Train = Y_Raw[:,0:Num_data_train]\n",
        "Y_RAW_Test = Y_Raw[:,Num_data_train:]"
      ],
      "metadata": {
        "id": "IYZrphUR6Zim"
      },
      "execution_count": 62,
      "outputs": []
    },
    {
      "cell_type": "code",
      "source": [
        "class scalar:\n",
        "  def __init__(self,mean,std):\n",
        "    self.mean = mean\n",
        "    self.std = std\n",
        "\n",
        "def get_scalar(row):\n",
        "  mean = np.mean(row)\n",
        "  std =np.std(row)\n",
        "  return scalar(mean,std)\n",
        "\n",
        "def standarize(data,scalar):\n",
        "  return(data-scalar.mean)/scalar.std\n",
        "def unstandarize(data,scalar):\n",
        "  return(data*(scalar.std)+scalar.mean)\n",
        "\n"
      ],
      "metadata": {
        "id": "vaS3s7jB0v2q"
      },
      "execution_count": 63,
      "outputs": []
    },
    {
      "cell_type": "code",
      "source": [
        "X_scalers =[get_scalar(X_RAW_Train[row,:]) for row in range(X_ROW)]\n",
        "X_train = np. array([standarize(X_RAW_Train[row,:],X_scalers[row])for row in range(X_ROW)])\n"
      ],
      "metadata": {
        "id": "CQEAV_060v5q"
      },
      "execution_count": 64,
      "outputs": []
    },
    {
      "cell_type": "code",
      "source": [
        "Y_scalers =[get_scalar(Y_RAW_Train[row,:]) for row in range(Y_Row)]\n",
        "Y_train = np. array([standarize(Y_RAW_Train[row,:],Y_scalers[row])for row in range(Y_Row)])\n"
      ],
      "metadata": {
        "id": "-AebECRy0v9L"
      },
      "execution_count": 65,
      "outputs": []
    },
    {
      "cell_type": "code",
      "source": [
        "X_test = np. array([standarize(X_RAW_Test[row,:],X_scalers[row])for row in range(X_ROW)])\n",
        "Y_test = np. array([standarize(Y_RAW_Test[row,:],Y_scalers[row])for row in range(Y_Row)])\n"
      ],
      "metadata": {
        "id": "AmZ50NJcVwiZ"
      },
      "execution_count": 66,
      "outputs": []
    },
    {
      "cell_type": "code",
      "source": [
        "print([X_train[row,:].mean() for row in range(X_ROW)])"
      ],
      "metadata": {
        "colab": {
          "base_uri": "https://localhost:8080/"
        },
        "id": "4jlRvCexWTS1",
        "outputId": "0ed2648b-0fe9-4631-af49-5b0b0ff0911f"
      },
      "execution_count": 67,
      "outputs": [
        {
          "output_type": "stream",
          "name": "stdout",
          "text": [
            "[-1.5352798397673592e-16, -4.314009467114894e-16]\n"
          ]
        }
      ]
    },
    {
      "cell_type": "code",
      "source": [
        "print([X_train[row,:].std() for row in range(X_ROW)])"
      ],
      "metadata": {
        "colab": {
          "base_uri": "https://localhost:8080/"
        },
        "id": "dpH8EYJyeDCM",
        "outputId": "d1c1289c-6b99-4072-8f69-6a69c87cbed6"
      },
      "execution_count": 68,
      "outputs": [
        {
          "output_type": "stream",
          "name": "stdout",
          "text": [
            "[1.0, 0.9999999999999999]\n"
          ]
        }
      ]
    },
    {
      "cell_type": "code",
      "source": [
        "print([Y_train[row,:].mean() for row in range(Y_Row)])\n",
        "print([Y_train[row,:].std() for row in range(Y_Row)])"
      ],
      "metadata": {
        "colab": {
          "base_uri": "https://localhost:8080/"
        },
        "id": "AyxmKgI7eDEK",
        "outputId": "04347b88-a15c-4f0a-a1ae-a0470533e2c6"
      },
      "execution_count": 69,
      "outputs": [
        {
          "output_type": "stream",
          "name": "stdout",
          "text": [
            "[2.7660413642089616e-16, -7.612957883143931e-18, 2.7660413642089616e-16]\n",
            "[1.0, 1.0, 1.0]\n"
          ]
        }
      ]
    },
    {
      "cell_type": "code",
      "source": [
        "class layer:\n",
        "  def __init__(self,layer_index,is_output,input_dim,output_dim,activation):\n",
        "    self.layer_index =layer_index\n",
        "    self.is_output = is_output\n",
        "    self.input_dim = input_dim\n",
        "    self.output_dim = output_dim\n",
        "    self.activation = activation\n",
        "\n",
        "    if layer_index != 0:\n",
        "      self.W = np.random.randn(output_dim, input_dim)* np.sqrt(2/input_dim)\n",
        "      self.b = np.random.randn(output_dim, 1)* np.sqrt(2/input_dim)\n"
      ],
      "metadata": {
        "id": "Gz83_fzcecNJ"
      },
      "execution_count": 70,
      "outputs": []
    },
    {
      "cell_type": "code",
      "source": [
        "layers_dim =  (X_ROW,4,4,Y_Row)"
      ],
      "metadata": {
        "id": "RboIf_t9ecQd"
      },
      "execution_count": 71,
      "outputs": []
    },
    {
      "cell_type": "code",
      "source": [
        "Neural_Net =[]\n",
        "\n",
        "for layer_index in range(len(layers_dim)):\n",
        "  if layer_index == 0:\n",
        "    Neural_Net.append(layer(layer_index,False,0,layers_dim[layer_index],'irrelevant'))\n",
        "  elif layer_index +1 == len(layers_dim):\n",
        "    Neural_Net.append(layer(layer_index,True,layers_dim[layer_index-1],layers_dim[layer_index],activation='linear'))\n",
        "  else:\n",
        "    Neural_Net.append(layer(layer_index,False,layers_dim[layer_index-1],layers_dim[layer_index],activation='relu'))"
      ],
      "metadata": {
        "id": "yeM47-k-eDHo"
      },
      "execution_count": 72,
      "outputs": []
    },
    {
      "cell_type": "code",
      "source": [
        "pred_n_param = sum([(layers_dim[layer_index]+1)*layers_dim[layer_index+1] for layer_index in range(len(layers_dim)-1)])\n",
        "act_n_param = sum([Neural_Net[layer_index].W.size+Neural_Net[layer_index].b.size for layer_index in range(1,len(layers_dim))])\n",
        "\n",
        "print(f'predicted number of hyperparameters:{pred_n_param}')\n",
        "print(f'Actual number of hyperparameters:{act_n_param}')\n",
        "print(f'number of data:{X_COLUMN}')\n",
        "\n",
        "if act_n_param >= X_COLUMN:\n",
        "  raise Exception(\"it will overfit.\")\n"
      ],
      "metadata": {
        "colab": {
          "base_uri": "https://localhost:8080/"
        },
        "id": "E3b-4_HSmfXe",
        "outputId": "8b9a487f-8814-46e5-e6fa-776d439ed97d"
      },
      "execution_count": 73,
      "outputs": [
        {
          "output_type": "stream",
          "name": "stdout",
          "text": [
            "predicted number of hyperparameters:47\n",
            "Actual number of hyperparameters:47\n",
            "number of data:2000\n"
          ]
        }
      ]
    },
    {
      "cell_type": "code",
      "source": [
        "def activation(input_,act_function):\n",
        "  if act_function == 'relu':\n",
        "    return np.maximum(input_, np.zeros(input_.shape))\n",
        "  elif act_function == 'linear':\n",
        "    return input_\n",
        "  else:\n",
        "     raise Exception(\"it no activation function.\")\n",
        "\n"
      ],
      "metadata": {
        "id": "9-0fS4Y1mjaA"
      },
      "execution_count": 74,
      "outputs": []
    },
    {
      "cell_type": "code",
      "source": [
        "def forward_prop(input_vec, layers_dim=layers_dim, Neural_Net=Neural_Net):\n",
        "    Neural_Net[0].A = input_vec\n",
        "    for layer_index in range(1, len(layers_dim)):\n",
        "        Neural_Net[layer_index].Z = np.add(np.dot(Neural_Net[layer_index].W, Neural_Net[layer_index-1].A), Neural_Net[layer_index].b)\n",
        "        Neural_Net[layer_index].A = activation(Neural_Net[layer_index].Z, Neural_Net[layer_index].activation)\n",
        "    return Neural_Net[-1].A  # ✅ Return the final layer's output\n"
      ],
      "metadata": {
        "id": "ZxNx_y4ZnE1Z"
      },
      "execution_count": 75,
      "outputs": []
    },
    {
      "cell_type": "code",
      "source": [
        "forward_prop(X_train).shape == Y_train.shape"
      ],
      "metadata": {
        "colab": {
          "base_uri": "https://localhost:8080/"
        },
        "id": "BTeigeAdnKrL",
        "outputId": "522a1265-c736-4814-beca-637d05eea3a5"
      },
      "execution_count": 76,
      "outputs": [
        {
          "output_type": "execute_result",
          "data": {
            "text/plain": [
              "True"
            ]
          },
          "metadata": {},
          "execution_count": 76
        }
      ]
    },
    {
      "cell_type": "code",
      "source": [
        "def get_loss(Y,Y_Hat, metric ='mse'):\n",
        "  if metric== 'mse':\n",
        "    individual_loss = 0.5 * (Y_Hat-Y)** 2\n",
        "    return np.mean([np.linalg.norm(individual_loss[:, col], 2) for col in range (individual_loss.shape[1])])\n",
        "  else:\n",
        "    raise Exception ('Loss metric is not defined')\n",
        "\n",
        "def get_dZ_from_loss(Y,Y_Hat, metric):\n",
        "  if metric== 'mse':\n",
        "    return Y_Hat - Y\n",
        "  else:\n",
        "    raise Exception('Loss metric is not defined')\n",
        "\n",
        "def get_dactivation(A, act_function):\n",
        "  if act_function == 'relu':\n",
        "    return np.maximum(np.sign(A), np.zeros(A.shape))\n",
        "  elif act_function == 'linear':\n",
        "    return np.ones(A.shape)\n",
        "  else:\n",
        "    raise Exception('Activation function is not defined')"
      ],
      "metadata": {
        "id": "KKM2l6uInRrw"
      },
      "execution_count": 77,
      "outputs": []
    },
    {
      "cell_type": "code",
      "source": [
        "def backward_prop(Y, Y_Hat, metric='mse', layers_dim=layers_dim, Neural_Net=Neural_Net, Num_Train_Datum=Num_data_train):\n",
        "    dZ = None  # Initialize dZ for backward pass\n",
        "    # Iterate from output layer down to first hidden layer\n",
        "    for layer_index in range(len(layers_dim) - 1, 0, -1):\n",
        "        current_layer = Neural_Net[layer_index]\n",
        "        if layer_index == len(layers_dim) - 1:\n",
        "            dZ = get_dZ_from_loss(Y, Y_Hat, metric)\n",
        "        else:\n",
        "            next_layer = Neural_Net[layer_index + 1]\n",
        "            dZ = np.dot(next_layer.W.T, dZ) * get_dactivation(current_layer.A, current_layer.activation)\n",
        "\n",
        "        dW = np.dot(dZ, Neural_Net[layer_index - 1].A.T) / Num_Train_Datum\n",
        "        db = np.sum(dZ, axis=1, keepdims=True) / Num_Train_Datum\n",
        "\n",
        "        # Store the computed gradients\n",
        "        current_layer.dW = dW\n",
        "        current_layer.db = db\n"
      ],
      "metadata": {
        "id": "WabOcrlRnS6o"
      },
      "execution_count": 78,
      "outputs": []
    },
    {
      "cell_type": "code",
      "source": [
        "Learning_Rate = 0.1\n",
        "max_epoch = 1000000\n",
        "\n",
        "for epoch in range(1, max_epoch + 1):\n",
        "    Y_Hat_train = forward_prop(X_train)\n",
        "    backward_prop(Y_train, Y_Hat_train)\n",
        "\n",
        "    # Update weights and biases inside the loop\n",
        "    for layer_index in range(1, len(layers_dim)):\n",
        "        Neural_Net[layer_index].W -= Learning_Rate * Neural_Net[layer_index].dW\n",
        "        Neural_Net[layer_index].b -= Learning_Rate * Neural_Net[layer_index].db\n",
        "\n",
        "    if epoch % 100000 == 0:\n",
        "        print(f'{get_loss(Y_train, Y_Hat_train):.4f}')\n"
      ],
      "metadata": {
        "colab": {
          "base_uri": "https://localhost:8080/"
        },
        "id": "eSzIOuXDnTDh",
        "outputId": "8cf3e43e-0022-4faf-a50f-23133da23e1f"
      },
      "execution_count": 79,
      "outputs": [
        {
          "output_type": "stream",
          "name": "stdout",
          "text": [
            "0.0000\n",
            "0.0000\n",
            "0.0000\n",
            "0.0000\n",
            "0.0000\n",
            "0.0000\n",
            "0.0000\n",
            "0.0000\n",
            "0.0000\n",
            "0.0000\n"
          ]
        }
      ]
    },
    {
      "cell_type": "code",
      "source": [
        "print(get_loss (Y_test, forward_prop(X_test)))"
      ],
      "metadata": {
        "colab": {
          "base_uri": "https://localhost:8080/"
        },
        "id": "rSAl0Upon0dm",
        "outputId": "26557568-b482-46e0-9734-31290d92e5c1"
      },
      "execution_count": 80,
      "outputs": [
        {
          "output_type": "stream",
          "name": "stdout",
          "text": [
            "1.6579289897700963e-05\n"
          ]
        }
      ]
    },
    {
      "cell_type": "code",
      "source": [
        "\n",
        "def predict(X_Raw_Any):\n",
        "  X_Any =np.array([standarize (X_Raw_Any [row, :], X_scalers[row]) for row in range(X_ROW)])\n",
        "  Y_Hat= forward_prop(X_Any)\n",
        "  Y_Hat_Any =np.array([unstandarize (Y_Hat[row,:], Y_scalers[row]) for row in range(Y_Row)])\n",
        "  return Y_Hat_Any"
      ],
      "metadata": {
        "id": "DyEzHZkTn7C0"
      },
      "execution_count": 54,
      "outputs": []
    },
    {
      "cell_type": "code",
      "source": [
        "predict(np.array([[30, 70], [70, 30], [3, 5], [888, 122]]).T)"
      ],
      "metadata": {
        "colab": {
          "base_uri": "https://localhost:8080/"
        },
        "id": "NTTCjn8rn7PS",
        "outputId": "0daad80a-f230-4345-d5cf-35c1a6c2900c"
      },
      "execution_count": 55,
      "outputs": [
        {
          "output_type": "execute_result",
          "data": {
            "text/plain": [
              "array([[  87.33879122,   91.46450319,   20.82749952, 1225.95097435],\n",
              "       [ -21.84618597,  -33.89938857, -163.81793086,  564.95434913],\n",
              "       [  86.44403877,   88.98791622,  110.62303493,  156.59833413]])"
            ]
          },
          "metadata": {},
          "execution_count": 55
        }
      ]
    },
    {
      "cell_type": "code",
      "source": [],
      "metadata": {
        "id": "3ObxKDBhrEv6"
      },
      "execution_count": 28,
      "outputs": []
    }
  ]
}